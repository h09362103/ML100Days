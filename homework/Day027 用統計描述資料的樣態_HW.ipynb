{
 "cells": [
  {
   "cell_type": "markdown",
   "metadata": {
    "id": "H-z4L8J371GO"
   },
   "source": [
    "## 作業:\n",
    "今天學到不同統計量之間特性，  \n",
    "試著分析男生女生身高資料，  \n",
    "試著回答下面的問題:  \n",
    "Q1:試著用今天所教的內容，如何描述這兩組資料的樣態?    \n",
    "Q2: 請問男生和女生在平均身高上誰比較高?   \n",
    "Q3:請問第二題的答案和日常生活中觀察的一致嗎? 如果不一致，你覺得原因可能為何?    \n",
    "上述問題透過  python 語法進行運算，\n",
    "並將上述答案填寫在 (google 表單)[https://docs.google.com/forms/d/e/1FAIpQLSdDzwpeJl8YLPwZaW8pBZvtuXY9kIbbZLqxcXyzFaoraV5JEA/viewform ]\n",
    "![](作業資料圖檔.PNG)"
   ]
  },
  {
   "cell_type": "code",
   "execution_count": 1,
   "metadata": {
    "id": "yz28_IgkYdBW"
   },
   "outputs": [],
   "source": [
    "# library\n",
    "import matplotlib.pyplot as plt\n",
    "import numpy as np\n",
    "import pandas as pd\n",
    "from scipy import stats\n",
    "import math\n",
    "import statistics\n",
    "import seaborn as sns"
   ]
  },
  {
   "cell_type": "code",
   "execution_count": 9,
   "metadata": {
    "id": "3NtzuWtt71GU",
    "outputId": "be21c4eb-a6c2-4674-aadd-d378bafc0428"
   },
   "outputs": [
    {
     "name": "stdout",
     "output_type": "stream",
     "text": [
      "[164, 176, 169, 165, 175, 159, 151, 144, 160, 183, 165, 156, 170, 164, 173, 165, 163, 177, 171] \n",
      " [169, 183, 170, 168, 182, 170, 173, 185, 151, 156, 162, 169, 181, 159, 154, 167, 175, 170, 160]\n"
     ]
    }
   ],
   "source": [
    "## 輸入資料\n",
    "boys=[164, 176, 169, 165, 175, 159, 151, 144, 160, 183, 165, 156, 170, \n",
    "     164, 173, 165, 163, 177, 171]\n",
    "girls=[169, 183, 170, 168, 182, 170, 173, 185, 151, 156, 162, 169, 181,\n",
    "      159, 154, 167, 175, 170, 160]\n",
    "print (boys,'\\n',girls)"
   ]
  },
  {
   "cell_type": "code",
   "execution_count": 45,
   "metadata": {
    "id": "uDM9AzrY71GW",
    "outputId": "f4e7ede3-fda9-4858-f122-af7c3b3f3ad4"
   },
   "outputs": [
    {
     "name": "stdout",
     "output_type": "stream",
     "text": [
      "boys' average height= 165.78947368421052 \n",
      " girls' average height= 168.6315789473684\n",
      "boys' height median= 165.0 \n",
      " girls' height median= 169.0\n",
      "boys' height mode= 165 \n",
      " girls' height mode= 170\n",
      "Range of boys' height= 39 \n",
      " Range of girls' height= 34\n",
      "variance of boys' height= 89.06432748538012 \n",
      " variance of girls' height= 98.35672514619883\n",
      "Std of boys' height= 9.437389866132484 \n",
      " Std of girls' height= 9.917495911075479\n",
      "\n",
      " 90 percentile of boy' height= 176.2\n",
      "50 percentile of boy' height= 165.0\n",
      "20 percentile of boy' height= 159.6\n",
      "\n",
      " 90 percentile of girls' height= 182.2\n",
      "50 percentile of girls' height= 169.0\n",
      "20 percentile of girls' height= 159.6\n",
      "\n",
      " skewness of boys' height= -0.4130967005277124 \n",
      " kurtosis of boys' height= 0.040091816054033114\n",
      "\n",
      " skewness of girls' height= -0.02804406841226485 \n",
      " kurtosis of girls' height= -0.8432382786772741\n"
     ]
    }
   ],
   "source": [
    "#Q1:試著用今天所教的內容，如何描述這兩組資料的樣態?\n",
    "#暗示:  分別計算男生和女生的統計量\n",
    "\n",
    "#平均數\n",
    "mean_b=np.mean(boys)\n",
    "mean_g=np.mean(girls)\n",
    "\n",
    "print(\"boys' average height=\", mean_b,'\\n', \"girls' average height=\", mean_g)\n",
    "\n",
    "#中位數\n",
    "median_b=np.median(boys)\n",
    "median_g=np.median(girls)\n",
    "\n",
    "print(\"boys' height median=\", median_b,'\\n', \"girls' height median=\", median_g)\n",
    "\n",
    "#眾數\n",
    "mode_b=stats.mode(boys)\n",
    "mode_g=stats.mode(girls)\n",
    "print(\"boys' height mode=\", mode_b[0][0],'\\n', \"girls' height mode=\", mode_g[0][0])\n",
    "\n",
    "#全距\n",
    "def rangerX(x):\n",
    "    return(max(x)-min(x))\n",
    "\n",
    "print(\"Range of boys' height=\", rangerX(boys),\n",
    "      '\\n', \"Range of girls' height=\", rangerX(girls))\n",
    "\n",
    "#計算變異數\n",
    "print(\"variance of boys' height=\", np.var(boys, ddof=1),\n",
    "      \"\\n\",\"variance of girls' height=\", np.var(girls, ddof=1))\n",
    "\n",
    "#計算標準差\n",
    "print(\"Std of boys' height=\", np.std(boys, ddof=1),\n",
    "      \"\\n\",\"Std of girls' height=\", np.std(girls, ddof=1))\n",
    "\n",
    "#python percentile\n",
    "print(\"\\n\",\"90 percentile of boy' height=\", np.percentile(boys, 90))\n",
    "print(\"50 percentile of boy' height=\", np.percentile(boys, 50))\n",
    "print(\"20 percentile of boy' height=\", np.percentile(boys, 20))\n",
    "\n",
    "print(\"\\n\",\"90 percentile of girls' height=\", np.percentile(girls, 90))\n",
    "print(\"50 percentile of girls' height=\", np.percentile(girls, 50))\n",
    "print(\"20 percentile of girls' height=\", np.percentile(girls, 20))\n",
    "\n",
    "#計算偏度和峰度\n",
    "\n",
    "print(\"\\n\", \"skewness of boys' height=\", stats.skew(boys),\"\\n\", \n",
    "      \"kurtosis of boys' height=\", stats.kurtosis(boys))\n",
    "\n",
    "print(\"\\n\", \"skewness of girls' height=\", stats.skew(girls),\"\\n\", \n",
    "      \"kurtosis of girls' height=\", stats.kurtosis(girls))"
   ]
  },
  {
   "cell_type": "code",
   "execution_count": 52,
   "metadata": {
    "id": "xH_GNsC271GW",
    "outputId": "f4b4c46a-0d8b-421c-9c70-0ebf2aab0e31"
   },
   "outputs": [
    {
     "data": {
      "text/plain": [
       "<function matplotlib.pyplot.show(close=None, block=None)>"
      ]
     },
     "execution_count": 52,
     "metadata": {},
     "output_type": "execute_result"
    },
    {
     "data": {
      "image/png": "[encoded data removed]",
      "text/plain": [
       "<Figure size 432x288 with 1 Axes>"
      ]
     },
     "metadata": {
      "needs_background": "light"
     },
     "output_type": "display_data"
    }
   ],
   "source": [
    "#Q2: 請問男生和女生在平均身高上誰比較高? \n",
    "plt.hist(boys, alpha=.4,bins=40)\n",
    "plt.title('boy,skewness={0}, kurtosis={1}'.format(round(stats.skew(boys),2),round(stats.kurtosis(boys),2)))\n",
    "plt.axvline(x=mean_b)\n",
    "plt.show\n"
   ]
  },
  {
   "cell_type": "code",
   "execution_count": 56,
   "metadata": {},
   "outputs": [
    {
     "data": {
      "text/plain": [
       "<function matplotlib.pyplot.show(close=None, block=None)>"
      ]
     },
     "execution_count": 56,
     "metadata": {},
     "output_type": "execute_result"
    },
    {
     "data": {
      "image/png": "[encoded data removed]",
      "text/plain": [
       "<Figure size 432x288 with 1 Axes>"
      ]
     },
     "metadata": {
      "needs_background": "light"
     },
     "output_type": "display_data"
    }
   ],
   "source": [
    "plt.hist(girls, alpha=.4,bins=40, color=sns.desaturate(\"indianred\", .8))\n",
    "plt.title('girls,skewness={0}, kurtosis={1}'.format(round(stats.skew(girls),2),round(stats.kurtosis(girls),2)))\n",
    "plt.axvline(x=mean_g,color=sns.desaturate(\"indianred\", .8))\n",
    "plt.show"
   ]
  },
  {
   "cell_type": "code",
   "execution_count": 63,
   "metadata": {},
   "outputs": [
    {
     "name": "stdout",
     "output_type": "stream",
     "text": [
      "168.63 > 165.79 average height of girls' big than boy's\n"
     ]
    },
    {
     "data": {
      "image/png": "[encoded data removed]",
      "text/plain": [
       "<Figure size 432x288 with 1 Axes>"
      ]
     },
     "metadata": {
      "needs_background": "light"
     },
     "output_type": "display_data"
    }
   ],
   "source": [
    "plt.hist(boys, alpha=.4)\n",
    "plt.hist(girls,color=sns.desaturate(\"indianred\", .8), alpha=.4)\n",
    "plt.axvline(x=mean_g, color=sns.desaturate(\"indianred\", .8),alpha=.4)\n",
    "plt.axvline(x=mean_b)\n",
    "plt.show\n",
    "\n",
    "print(round(mean_g,2), \">\", round(mean_b,2), \"average height of girls' big than boy's\")"
   ]
  },
  {
   "cell_type": "code",
   "execution_count": 65,
   "metadata": {
    "id": "xAzZU0Dv71GX",
    "outputId": "e2017c09-70fc-41ab-99c0-9d41fe21629d"
   },
   "outputs": [
    {
     "name": "stdout",
     "output_type": "stream",
     "text": [
      "不一致，身邊平均身高是男性高於女性可能原因是取樣的母群體可能是屬於子群體，例：女性身高某些取自於女子籃球隊成員等原因導致該現象可以根據中央極限定理取更多的樣，可能就會得到新的平均值\n"
     ]
    }
   ],
   "source": [
    "#Q3:請問第二題的答案和日常生活中觀察的一致嗎? 如果不一致，你覺得原因可能為何? \n",
    "print(\"不一致，身邊平均身高是男性高於女性可能原因是取樣的母群體可能是屬於子群體，例：女性身高某些取自於女子籃球隊成員等原因導致該現象可以根據中央極限定理取更多的樣，可能就會得到新的平均值\")"
   ]
  }
 ],
 "metadata": {
  "colab": {
   "collapsed_sections": [],
   "name": "作業.ipynb",
   "provenance": []
  },
  "kernelspec": {
   "display_name": "Python 3",
   "language": "python",
   "name": "python3"
  },
  "language_info": {
   "codemirror_mode": {
    "name": "ipython",
    "version": 3
   },
   "file_extension": ".py",
   "mimetype": "text/x-python",
   "name": "python",
   "nbconvert_exporter": "python",
   "pygments_lexer": "ipython3",
   "version": "3.8.5"
  }
 },
 "nbformat": 4,
 "nbformat_minor": 1
}
