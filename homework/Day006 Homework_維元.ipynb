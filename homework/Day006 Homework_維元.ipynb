{
 "cells": [
  {
   "cell_type": "markdown",
   "metadata": {
    "id": "P6xk2_jLsvFF"
   },
   "source": [
    "# [作業目標]\n",
    "\n",
    "1. [簡答題] 請問下列這三種方法有什麼不同？\n",
    "\n",
    "```\n",
    "print(a.sum()) \n",
    "print(np.sum(a))\n",
    "print(sum(a)) \n",
    "```\n",
    "\n",
    "2. 請對一個 5x5 的隨機矩陣作正規化的操作。\n",
    "\n",
    "3. 請建立一個長度等於 10 的正整數向量，並且將其中的最大值改成 -1。\n"
   ]
  },
  {
   "cell_type": "markdown",
   "metadata": {
    "id": "uXGll28asvFS"
   },
   "source": [
    "# 作業 "
   ]
  },
  {
   "cell_type": "markdown",
   "metadata": {
    "id": "lbz8VjL6jxyL"
   },
   "source": [
    "### 1. [簡答題] 請問下列這三種方法有什麼不同？\n",
    "\n",
    "```\n",
    "print(a.sum()) \n",
    "print(np.sum(a))\n",
    "print(sum(a)) \n",
    "```\n",
    "\n"
   ]
  },
  {
   "cell_type": "code",
   "execution_count": 3,
   "metadata": {
    "id": "5QrYoyNWsvFS",
    "outputId": "e9e14d36-38ce-4ce5-edf2-3c7b129db580"
   },
   "outputs": [
    {
     "name": "stdout",
     "output_type": "stream",
     "text": [
      "a.sum() is all type can use \n",
      "then np.sum() and sum(a) using under np and array respectively\n"
     ]
    }
   ],
   "source": [
    "print('a.sum() is all type can use \\nthen np.sum() and sum(a) using under np and array respectively' )"
   ]
  },
  {
   "cell_type": "markdown",
   "metadata": {
    "id": "vVrjBXabjxyS"
   },
   "source": [
    "### 2. 請對一個 5x5 的隨機矩陣作正規化的操作。\n"
   ]
  },
  {
   "cell_type": "code",
   "execution_count": 5,
   "metadata": {
    "id": "ffDRVHs9jxyS"
   },
   "outputs": [],
   "source": [
    "# 記得先 Import 正確的套件\n",
    "import numpy as np"
   ]
  },
  {
   "cell_type": "code",
   "execution_count": 9,
   "metadata": {
    "id": "e1gVI0tvsvFY",
    "outputId": "43bf676f-fd04-4edf-c062-b5fe7fe1f4bf"
   },
   "outputs": [
    {
     "name": "stdout",
     "output_type": "stream",
     "text": [
      "[[0.82575785 0.17195308 0.5933837  0.35440884 0.76087471]\n",
      " [0.77835342 0.28164649 0.42855262 0.10044267 0.80300494]\n",
      " [0.10694189 0.70124962 0.53176426 0.78797315 0.46977464]\n",
      " [0.45775064 0.97267071 0.19338979 0.59069416 0.39110738]\n",
      " [0.13632793 0.95647818 0.22098159 0.02798134 0.70171346]]\n"
     ]
    },
    {
     "data": {
      "text/plain": [
       "array([[0.84448553, 0.15240115, 0.59850611, 0.3455395 , 0.77580355],\n",
       "       [0.79430562, 0.268517  , 0.42402433, 0.07670387, 0.82040046],\n",
       "       [0.08358362, 0.71268747, 0.53327891, 0.80448857, 0.46765986],\n",
       "       [0.45493186, 1.        , 0.17509295, 0.5956591 , 0.38438671],\n",
       "       [0.11469018, 0.98285941, 0.20430023, 0.        , 0.71317847]])"
      ]
     },
     "execution_count": 9,
     "metadata": {},
     "output_type": "execute_result"
    }
   ],
   "source": [
    "A = np.random.random((5, 5))\n",
    "\n",
    "# formula = (data - data(min))/(data(max)-data(min)) \n",
    "#it's called standardization\n",
    "print(A)\n",
    "\n",
    "A= (A-A.min()) / (A.max() -A.min())\n",
    "A"
   ]
  },
  {
   "cell_type": "markdown",
   "metadata": {
    "id": "Ptc3ZrNQjxyU"
   },
   "source": [
    "### 3. 請建立一個長度等於 10 的正整數向量，並且將其中的最大值改成 -1。\n"
   ]
  },
  {
   "cell_type": "code",
   "execution_count": 15,
   "metadata": {
    "id": "Yu1kbLxojxyU",
    "outputId": "d323e754-178a-46ae-e15e-98275ae220dd"
   },
   "outputs": [
    {
     "name": "stdout",
     "output_type": "stream",
     "text": [
      "X is \n",
      " [0.80528952 0.2239439  0.61374096 0.68529568 0.51547574 0.12746262\n",
      " 0.55852068 0.36176321 0.95734377 0.68969043]\n",
      "[ 0.80528952  0.2239439   0.61374096  0.68529568  0.51547574  0.12746262\n",
      "  0.55852068  0.36176321 -1.          0.68969043]\n"
     ]
    }
   ],
   "source": [
    "X = np.random.rand(10)\n",
    "print('X is \\n', X)\n",
    "\n",
    "X[X.argmax()]=-1\n",
    "print(X)"
   ]
  }
 ],
 "metadata": {
  "colab": {
   "name": "06 Homework_維元.ipynb",
   "provenance": []
  },
  "kernelspec": {
   "display_name": "Python 3",
   "language": "python",
   "name": "python3"
  },
  "language_info": {
   "codemirror_mode": {
    "name": "ipython",
    "version": 3
   },
   "file_extension": ".py",
   "mimetype": "text/x-python",
   "name": "python",
   "nbconvert_exporter": "python",
   "pygments_lexer": "ipython3",
   "version": "3.8.5"
  }
 },
 "nbformat": 4,
 "nbformat_minor": 1
}
